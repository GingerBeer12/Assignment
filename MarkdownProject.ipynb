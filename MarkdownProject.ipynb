{
 "cells": [
  {
   "cell_type": "markdown",
   "id": "2741e989-4db3-4ad1-9542-d79710a4532b",
   "metadata": {},
   "source": [
    "# Data Science Tools and Ecosystem "
   ]
  },
  {
   "cell_type": "markdown",
   "id": "919f4829-8d17-4337-b66c-d00b39a7c8b6",
   "metadata": {},
   "source": [
    "## In this notebook, Data Science Tools and Ecosystem are summarized."
   ]
  },
  {
   "cell_type": "markdown",
   "id": "d7c88b9a-18fd-4f36-892d-bdc3a51efae1",
   "metadata": {},
   "source": [
    "## **Objectives:**"
   ]
  },
  {
   "cell_type": "markdown",
   "id": "3c4c200c-9e54-49d5-8bde-bdf09c9eaa5c",
   "metadata": {},
   "source": [
    "- Kernel - An Execution Environment for the different programming languages\n",
    "- Regression Models - Are used to predict a numeric (or \"Real\") value\n",
    "- SaaS - Software as a service\n",
    "- Watson Studio - A fully integrated development environment for data scientist\n",
    "- TensorFlow - Deep learning for dataflow that was built with c++\n",
    " "
   ]
  },
  {
   "cell_type": "markdown",
   "id": "f6badb7b-d971-4a0f-a4f6-87419e03c9fd",
   "metadata": {},
   "source": [
    "#### Some of the popular languages that Data Scientists use are:"
   ]
  },
  {
   "cell_type": "markdown",
   "id": "356c2e65-0555-4b9e-bd7c-9eb4ed4e27f1",
   "metadata": {},
   "source": [
    "1. Python\n",
    "2. R\n",
    "3. SQL\n",
    "4. Java"
   ]
  },
  {
   "cell_type": "markdown",
   "id": "d96015c5-2331-4709-adaa-6c2f0fbbb03e",
   "metadata": {},
   "source": [
    "#### Some of the commonly used libraries used by Data Scientists include:\n"
   ]
  },
  {
   "cell_type": "markdown",
   "id": "da27fc35-6837-44f3-9e2b-287de9a0664f",
   "metadata": {},
   "source": [
    "1. Numpy\n",
    "2. Pnadas\n",
    "3. Matplotlib\n",
    "4. Scipy\n",
    "5. Seaborn"
   ]
  },
  {
   "cell_type": "markdown",
   "id": "86cb69c2-e4ce-468c-b723-d8b36c8862c8",
   "metadata": {},
   "source": [
    "##\n",
    "| Data Science Tools       |\n",
    "|--------------------------|\n",
    "| Jupyter Notebook         |\n",
    "| RStudio                  |\n",
    "| Apache Spark             |\n"
   ]
  },
  {
   "cell_type": "markdown",
   "id": "dbbce8af-10f7-461c-b916-4a82d312a6ea",
   "metadata": {},
   "source": [
    "### Below are a few examples of evaluating arithmetic expressions in Python.\n"
   ]
  },
  {
   "cell_type": "markdown",
   "id": "b239f948-aae1-41c2-8095-eb03f4aa3a42",
   "metadata": {},
   "source": [
    "###\n",
    "1. \"+\"\n",
    "2. \"*\"\n",
    "3. \"/\"\n",
    "4. \"//\"\n",
    "5. \"-\"\n",
    "6. \"%\"\n",
    "   "
   ]
  },
  {
   "cell_type": "markdown",
   "id": "5a768229-8232-44b3-8d0c-866699175c83",
   "metadata": {},
   "source": [
    "This a simple arithmetic expression to mutiply then add integers."
   ]
  },
  {
   "cell_type": "code",
   "execution_count": 38,
   "id": "69899837-0a0b-4009-949a-8cbebde440cd",
   "metadata": {},
   "outputs": [
    {
     "data": {
      "text/plain": [
       "17"
      ]
     },
     "execution_count": 38,
     "metadata": {},
     "output_type": "execute_result"
    }
   ],
   "source": [
    "(3*4)+5"
   ]
  },
  {
   "cell_type": "markdown",
   "id": "841258ac-4429-4e3a-aa6c-d198a2fd0f69",
   "metadata": {},
   "source": [
    "This will convert 200 minutes to hours by diving by 60"
   ]
  },
  {
   "cell_type": "code",
   "execution_count": 41,
   "id": "2d854a65-bd50-429a-abc4-5eaccb0eb019",
   "metadata": {},
   "outputs": [
    {
     "data": {
      "text/plain": [
       "3.3333333333333335"
      ]
     },
     "execution_count": 41,
     "metadata": {},
     "output_type": "execute_result"
    }
   ],
   "source": [
    "200/60"
   ]
  },
  {
   "cell_type": "markdown",
   "id": "b735ee3c-9aa5-41b4-868c-d0be2631607c",
   "metadata": {},
   "source": [
    "## Author:"
   ]
  },
  {
   "cell_type": "markdown",
   "id": "1934ea78-6c7f-4209-b467-675ee765dc30",
   "metadata": {},
   "source": [
    "Joe M."
   ]
  },
  {
   "cell_type": "code",
   "execution_count": null,
   "id": "2121a2e3-84d8-41f7-84e3-af602fd80233",
   "metadata": {},
   "outputs": [],
   "source": []
  }
 ],
 "metadata": {
  "kernelspec": {
   "display_name": "Python 3 (ipykernel)",
   "language": "python",
   "name": "python3"
  },
  "language_info": {
   "codemirror_mode": {
    "name": "ipython",
    "version": 3
   },
   "file_extension": ".py",
   "mimetype": "text/x-python",
   "name": "python",
   "nbconvert_exporter": "python",
   "pygments_lexer": "ipython3",
   "version": "3.11.7"
  }
 },
 "nbformat": 4,
 "nbformat_minor": 5
}
